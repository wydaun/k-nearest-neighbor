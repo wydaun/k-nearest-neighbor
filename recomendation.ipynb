#import library yang dibutuhkan
import pandas as pd
import numpy as np

#Membaca file inputan (mobil.xls)    
df = pd.read_excel('mobil.xls')

#Menentukan fitur untuk k-NN
X_Train = df[['Ukuran','Kenyamanan', 'Irit','Kecepatan','Harga (Ratus Juta)']]
X_Train.head()

def rumus(data) :
    return ((data-data.min()) / (data.max()- data.min()))

columns = list(X_Train)

#input user test
user_data = []
for i in range(0, 5):
    ele = float(input("Masukkan nilai fitur satu persatu:"))
    user_data.append(ele)

#normalisasi data input dari user
user_data[0] = (user_data[0]-min(X_Train['Ukuran'])) / ((max(X_Train['Ukuran']) - min(X_Train['Ukuran'])))
user_data[1] = (user_data[1]-min(X_Train['Kenyamanan'])) / ((max(X_Train['Kenyamanan']) - min(X_Train['Kenyamanan'])))
user_data[2] = (user_data[2]-min(X_Train['Irit'])) / ((max(X_Train['Irit']) - min(X_Train['Irit'])))
user_data[3] = (user_data[3]-min(X_Train['Kecepatan'])) / ((max(X_Train['Kecepatan']) - min(X_Train['Kecepatan'])))
user_data[4] = (user_data[4]-min(X_Train['Harga (Ratus Juta)'])) / ((max(X_Train['Harga (Ratus Juta)']) - min(X_Train['Harga (Ratus Juta)'])))

#normalisasi data train
X_Train = rumus(X_Train)
X_Train.head()

data_arr = []
dist_euc_arr = []
dist_mink_arr = []
dist_man_arr = []
dist_sup_arr = []
for i in range (0,17):
   for j in columns:
      #print(X_Train[j][i])
      elem = X_Train[j][i]
      data_arr.append(elem)
   #print(data_arr)
   #menghitung jarak dengan euclidean distance
   dist_euc = ((user_data[0]-data_arr[0])**2 + (user_data[1]-data_arr[1])**2 + (user_data[2]-data_arr[2])**2 + (user_data[3]-data_arr[3])**2 + (user_data[4]-data_arr[4])**2)**0.5
   dist_euc_arr.append(dist_euc)

   #menghitung jarak dengan minkowski distance, p=2
   dist_mink = ((user_data[0]-data_arr[0])**2 + (user_data[1]-data_arr[1])**2 + (user_data[2]-data_arr[2])**2 + (user_data[3]-data_arr[3])**2 + (user_data[4]-data_arr[4])**2)**0.5
   dist_mink_arr.append(dist_mink)

   #menghitung jarak dengan manhattan distance
   dist_man = (abs(user_data[0]-data_arr[0]) + abs(user_data[1]-data_arr[1]) + abs(user_data[2]-data_arr[2]) + abs(user_data[3]-data_arr[3]) + abs(user_data[4]-data_arr[4]))
   dist_man_arr.append(dist_man)

   #menghitung jarak dengan supremum distance
   dist_sup = max(abs(user_data[0]-data_arr[0]), abs(user_data[1]-data_arr[1]), abs(user_data[2]-data_arr[2]), abs(user_data[3]-data_arr[3]), abs(user_data[4]-data_arr[4]))
   dist_sup_arr.append(dist_sup)
   data_arr = []

result_euc = pd.DataFrame(dist_euc_arr)
result_mink = pd.DataFrame(dist_mink_arr)
result_man = pd.DataFrame(dist_man_arr)
result_sup = pd.DataFrame(dist_sup_arr)

result_euc['Metode'] = 'Euclidean'
result_euc['Nama Mobil'] = df['Nama Mobil']
result_euc['Ukuran'] = X_Train['Ukuran']
result_euc['Kenyamanan'] = X_Train['Kenyamanan']
result_euc['Irit'] = X_Train['Irit']
result_euc['Kecepatan'] = X_Train['Kecepatan']
result_euc['Harga'] = X_Train['Harga (Ratus Juta)']

result_mink['Metode'] = 'Minkowski'
result_mink['Nama Mobil'] = df['Nama Mobil']
result_mink['Ukuran'] = X_Train['Ukuran']
result_mink['Kenyamanan'] = X_Train['Kenyamanan']
result_mink['Irit'] = X_Train['Irit']
result_mink['Kecepatan'] = X_Train['Kecepatan']
result_mink['Harga'] = X_Train['Harga (Ratus Juta)']

result_man['Metode'] = 'Manhattan'
result_man['Nama Mobil'] = df['Nama Mobil']
result_man['Ukuran'] = X_Train['Ukuran']
result_man['Kenyamanan'] = X_Train['Kenyamanan']
result_man['Irit'] = X_Train['Irit']
result_man['Kecepatan'] = X_Train['Kecepatan']
result_man['Harga'] = X_Train['Harga (Ratus Juta)']

result_sup['Metode'] = 'Supremum'
result_sup['Nama Mobil'] = df['Nama Mobil']
result_sup['Ukuran'] = X_Train['Ukuran']
result_sup['Kenyamanan'] = X_Train['Kenyamanan']
result_sup['Irit'] = X_Train['Irit']
result_sup['Kecepatan'] = X_Train['Kecepatan']
result_sup['Harga'] = X_Train['Harga (Ratus Juta)']

#nilai k = sqrt(N)
k = 17**0.5
k
k=3

#mencari mobil dengan jarak terdekat dari data user
result_euc.nsmallest(3,[0])
result_mink.nsmallest(3,[0])
result_man.nsmallest(3,[0])
result_sup.nsmallest(3,[0])

result = [result_euc.nsmallest(3,[0]), result_mink.nsmallest(3,[0]), result_man.nsmallest(3,[0]),result_sup.nsmallest(3,[0])]
hasilnya = pd.concat(result)
display(hasilnya)

#mengambil nama mobil dari hasil
rek = pd.unique(hasilnya['Nama Mobil'])

rekomendasi = pd.DataFrame(rek, columns = ['Nama Mobil'])
rekomendasi

#rewrite ke excel
rekomendasi.to_excel('rekomendasi.xls', index = False, header=False)
